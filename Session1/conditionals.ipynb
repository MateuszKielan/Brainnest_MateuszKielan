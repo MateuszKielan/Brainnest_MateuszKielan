{
 "cells": [
  {
   "cell_type": "markdown",
   "metadata": {},
   "source": [
    "1. Write a program that prompts the user for a string and checks whether the string is a palindrome (i.e., the string reads the same forward and backward)."
   ]
  },
  {
   "cell_type": "code",
   "execution_count": 5,
   "metadata": {},
   "outputs": [
    {
     "name": "stdout",
     "output_type": "stream",
     "text": [
      "madam\n",
      "The word is a palindrome\n"
     ]
    }
   ],
   "source": [
    "word: str = input()\n",
    "reverse: str = word[::-1]\n",
    "\n",
    "if word == reverse:\n",
    "    print(\"The word is a palindrome\")\n",
    "else:\n",
    "    print(\"The word is not a palindrome\")\n"
   ]
  },
  {
   "cell_type": "markdown",
   "metadata": {},
   "source": [
    "2. Write a program that takes in a list of integers and returns the sum of all even numbers in the list."
   ]
  },
  {
   "cell_type": "code",
   "execution_count": 9,
   "metadata": {},
   "outputs": [
    {
     "name": "stdout",
     "output_type": "stream",
     "text": [
      "Please input the numbers seperated by space: 2 3 4 5 a\n",
      "Your input at position 4 is not a number\n",
      "6\n"
     ]
    }
   ],
   "source": [
    "integers = input(\"Please input the numbers seperated by space: \").split(\" \")\n",
    "even_sum = 0\n",
    "\n",
    "for count, number in enumerate(integers):\n",
    "    try:\n",
    "        number = int(number)\n",
    "        if number % 2 == 0:\n",
    "            even_sum += number\n",
    "    except:\n",
    "        print(f\"Your input at index {count} is not a number\")\n",
    "        \n",
    "\n",
    "print(even_sum)"
   ]
  },
  {
   "cell_type": "markdown",
   "metadata": {},
   "source": [
    "3. Write a program that prompts the user for their age and checks whether they are old enough to vote (i.e., 18 years old or older)."
   ]
  },
  {
   "cell_type": "code",
   "execution_count": 12,
   "metadata": {},
   "outputs": [
    {
     "name": "stdout",
     "output_type": "stream",
     "text": [
      "Please enter your age: 19\n",
      "You are good to go\n"
     ]
    }
   ],
   "source": [
    "age = int(input(\"Please enter your age: \"))\n",
    "\n",
    "if age >= 18:\n",
    "    print(\"You are good to go\")\n",
    "else:\n",
    "    print(\"You are too young\")\n",
    "    "
   ]
  },
  {
   "cell_type": "markdown",
   "metadata": {},
   "source": [
    "4. Write a program that takes in a list of integers and returns the largest number in the list that is also divisible by 3."
   ]
  },
  {
   "cell_type": "code",
   "execution_count": 15,
   "metadata": {},
   "outputs": [
    {
     "name": "stdout",
     "output_type": "stream",
     "text": [
      "Please input the numbers seperated by space: 2 3 4 6 9\n",
      "9\n"
     ]
    }
   ],
   "source": [
    "integers_list = input(\"Please input the numbers seperated by space: \").split(\" \")\n",
    "highest_number = 0\n",
    "\n",
    "for count, number in enumerate(integers_list):\n",
    "    try:\n",
    "        number = int(number)\n",
    "        if number % 3 == 0 and number > highest_number:\n",
    "            highest_number = number\n",
    "    except:\n",
    "        pass\n",
    "            \n",
    "print(f\" Highest number divisible by 3 is {highest_number}\")\n",
    "            \n"
   ]
  },
  {
   "cell_type": "markdown",
   "metadata": {},
   "source": [
    "5. Write a program that prompts the user for a number and checks whether the number is a prime number (i.e., only divisible by 1 and itself)."
   ]
  },
  {
   "cell_type": "code",
   "execution_count": 6,
   "metadata": {},
   "outputs": [
    {
     "name": "stdout",
     "output_type": "stream",
     "text": [
      "Please enter a number: 5\n",
      "5 is a prime number\n"
     ]
    }
   ],
   "source": [
    "number = int(input(\"Please enter a number: \"))\n",
    "\n",
    "is_prime = True\n",
    "\n",
    "if number == 1:\n",
    "    print(f\"{number} is not a prime number.\")\n",
    "elif number > 1:\n",
    "    for i in range(2, number):\n",
    "        if (number % i) == 0:\n",
    "            is_prime = False\n",
    "            break\n",
    "\n",
    "    if not is_prime:\n",
    "        print(f\"{number} is not a prime number\")\n",
    "    else:\n",
    "        print(f\"{number} is a prime number\")"
   ]
  }
 ],
 "metadata": {
  "kernelspec": {
   "display_name": "Python 3 (ipykernel)",
   "language": "python",
   "name": "python3"
  },
  "language_info": {
   "codemirror_mode": {
    "name": "ipython",
    "version": 3
   },
   "file_extension": ".py",
   "mimetype": "text/x-python",
   "name": "python",
   "nbconvert_exporter": "python",
   "pygments_lexer": "ipython3",
   "version": "3.8.13"
  },
  "vscode": {
   "interpreter": {
    "hash": "f7a5be651532581cb44625d52e18aa1d390cab54bc6b51099d8c30bea9b68219"
   }
  }
 },
 "nbformat": 4,
 "nbformat_minor": 2
}
