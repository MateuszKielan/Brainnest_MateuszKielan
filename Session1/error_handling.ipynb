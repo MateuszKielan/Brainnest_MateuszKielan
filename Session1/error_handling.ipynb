{
 "cells": [
  {
   "cell_type": "markdown",
   "metadata": {},
   "source": [
    "1. Write a function that takes a list of integers as an argument, and returns the sum of the integers. Use a try-except block to catch any ValueError exceptions that may be raised when attempting to convert a string to an integer."
   ]
  },
  {
   "cell_type": "code",
   "execution_count": 5,
   "metadata": {},
   "outputs": [
    {
     "name": "stdout",
     "output_type": "stream",
     "text": [
      "14\n"
     ]
    }
   ],
   "source": [
    "def sum_integers(itegers):\n",
    "    \"\"\"\n",
    "    funciton takes 1 pararmeter\n",
    "    :param integers: list of integers\n",
    "    returns a sum of all the items in the list\n",
    "    \"\"\"\n",
    "    sum = 0\n",
    "    \n",
    "    for integer in integers:\n",
    "        sum += integer\n",
    "    \n",
    "    return sum\n",
    "\n",
    "\n",
    "integers = [3, 5, 6]\n",
    "\n",
    "try:\n",
    "    print(sum_integers(integers))\n",
    "except:\n",
    "    print(\"please insert only integers\")\n",
    "        "
   ]
  },
  {
   "cell_type": "markdown",
   "metadata": {},
   "source": [
    "2. Write a function that takes a filename as an argument, and attempts to open the file. Use a try-except block to catch any FileNotFoundError exceptions that may be raised when attempting to open the file. If the file is successfully opened, the function should return the contents of the file."
   ]
  },
  {
   "cell_type": "code",
   "execution_count": 7,
   "metadata": {},
   "outputs": [
    {
     "name": "stdout",
     "output_type": "stream",
     "text": [
      "Please enter a file name: test.txt\n",
      "sdkjflkajsfkdf4\n",
      "\n",
      "askdjflasdkadfjals\n",
      "\n",
      "asldkfjalsdjflajsdldj\n",
      "\n",
      "aksdjflaskdfljsdf\n",
      "\n",
      "kjdsjdflajsldkdjflajs\n",
      "\n",
      "alsdkjflajsdlkfjalsdjf\n",
      "\n",
      "askdjflasdjfladjfflsjd\n"
     ]
    }
   ],
   "source": [
    "\n",
    "def open_file(filename):\n",
    "    \"\"\"\n",
    "    Function takes one parameter and tries to open and print content of the given file.\n",
    "    :param filename: name of the file\n",
    "    \"\"\"\n",
    "\n",
    "    try:\n",
    "        file = open(filename)\n",
    "        for line in file:\n",
    "            print(line)\n",
    "\n",
    "    except FileNotFoundError:\n",
    "        print(\"There is no such file in the directory\")\n",
    "        \n",
    "filename = input(\"Please enter a file name: \")\n",
    "open_file(filename)"
   ]
  },
  {
   "cell_type": "markdown",
   "metadata": {},
   "source": [
    "3. Write a function that takes a list of strings as an argument, and returns a new list containing only the strings that can be successfully converted to a float. Use a try-except block to catch any ValueError exceptions that may be raised when attempting to convert a string to a float."
   ]
  },
  {
   "cell_type": "code",
   "execution_count": 9,
   "metadata": {},
   "outputs": [
    {
     "name": "stdout",
     "output_type": "stream",
     "text": [
      "Enter list of strings separated by comma: 2,3,a,b\n",
      "[2.0, 3.0]\n"
     ]
    }
   ],
   "source": [
    "\n",
    "def string_to_float(list_strings):\n",
    "    \"\"\"\n",
    "    Funciton takes 1 parameter\n",
    "    :param list_strings: list of strings\n",
    "    returns same list with every possible item converted to float\n",
    "    \"\"\"\n",
    "    list_float = []\n",
    "    for item in list_strings:\n",
    "        try:\n",
    "            item = float(item)\n",
    "            list_float.append(item)\n",
    "        except:\n",
    "            pass\n",
    "        \n",
    "    return list_float\n",
    "\n",
    "list_strings = input(\"Enter list of strings separated by comma: \").split(\",\")\n",
    "print(string_to_float(list_strings))\n"
   ]
  },
  {
   "cell_type": "markdown",
   "metadata": {},
   "source": [
    "4. Write a function that takes a list of dictionaries as an argument, and returns the value of a specified key from each dictionary. Use a try-except block to catch any KeyError exceptions that may be raised when attempting to access a key that does not exist in a dictionary."
   ]
  },
  {
   "cell_type": "code",
   "execution_count": 9,
   "metadata": {},
   "outputs": [
    {
     "name": "stdout",
     "output_type": "stream",
     "text": [
      "Please give the key that you want to find: p\n"
     ]
    },
    {
     "data": {
      "text/plain": [
       "'no such key found'"
      ]
     },
     "execution_count": 9,
     "metadata": {},
     "output_type": "execute_result"
    }
   ],
   "source": [
    "def find_key(list_dicts, key_input):\n",
    "    \"\"\"\n",
    "    function takes two parameters:\n",
    "    :param list_dicts: list of dictionaries\n",
    "    :param key_input: specified key from the user\n",
    "    \n",
    "    funciton returns a value for the specified key from the dictionaries\n",
    "    \"\"\"\n",
    "    possible_values = []\n",
    "    for dictionary in list_dicts:\n",
    "        for keys in dictionary:\n",
    "            if keys == key_input:\n",
    "                possible_values.append(dictionary[keys])\n",
    "\n",
    "    if len(possible_values) == 1:\n",
    "        return possible_values[0]\n",
    "    elif len(possible_values) == 0:\n",
    "        return \"no such key found\"\n",
    "    else:\n",
    "        for i in range(0, len(possible_values)):\n",
    "            print(possible_values[i])\n",
    "    \n",
    "    \n",
    "    \n",
    "key_input = input(\"Please give the key that you want to find: \")\n",
    "# random list of dictionaries to test the function\n",
    "list_dicts = [{'apple': 'green', 'banana': \"yellow\"}, {\"cat\": \"john\", \"dog\": \"Andrew\"}, {\"apple\": \"big\", \"grape\": \"small\"}]\n",
    "\n",
    "#calling funciton\n",
    "find_key(list_dicts, key_input)"
   ]
  },
  {
   "cell_type": "markdown",
   "metadata": {},
   "source": [
    "5. Write a function that takes a list of integers as an argument, and returns the largest integer in the list. Use a try-except block to catch any ValueError exceptions that may be raised when attempting to compare elements that are not integers."
   ]
  },
  {
   "cell_type": "code",
   "execution_count": 12,
   "metadata": {},
   "outputs": [
    {
     "name": "stdout",
     "output_type": "stream",
     "text": [
      "Please input integers separated by comma: 2,3.1,1\n"
     ]
    },
    {
     "data": {
      "text/plain": [
       "'Not all elements in the list are integers'"
      ]
     },
     "execution_count": 12,
     "metadata": {},
     "output_type": "execute_result"
    }
   ],
   "source": [
    "def largest(list_integers):\n",
    "    \"\"\"\n",
    "    Funciton takes 1 parameter:\n",
    "    :param list_integers: a list of integers given by the user\n",
    "    \n",
    "    returns larges integer in the list\n",
    "    \"\"\"\n",
    "    try:\n",
    "        return int(max(list_integers))\n",
    "    except:\n",
    "        return \"Not all elements in the list are integers\"\n",
    "    \n",
    "    \n",
    "list_integers = input(\"Please input integers separated by comma: \").split(\",\")\n",
    "largest(list_integers)\n",
    "        "
   ]
  }
 ],
 "metadata": {
  "kernelspec": {
   "display_name": "Python 3 (ipykernel)",
   "language": "python",
   "name": "python3"
  },
  "language_info": {
   "codemirror_mode": {
    "name": "ipython",
    "version": 3
   },
   "file_extension": ".py",
   "mimetype": "text/x-python",
   "name": "python",
   "nbconvert_exporter": "python",
   "pygments_lexer": "ipython3",
   "version": "3.8.13"
  },
  "vscode": {
   "interpreter": {
    "hash": "f7a5be651532581cb44625d52e18aa1d390cab54bc6b51099d8c30bea9b68219"
   }
  }
 },
 "nbformat": 4,
 "nbformat_minor": 2
}
