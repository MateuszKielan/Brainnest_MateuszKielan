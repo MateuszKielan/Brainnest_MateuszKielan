{
 "cells": [
  {
   "cell_type": "markdown",
   "metadata": {},
   "source": [
    "1. Create a for loop that iterates through a list of strings and prints each string in uppercase."
   ]
  },
  {
   "cell_type": "code",
   "execution_count": 3,
   "metadata": {},
   "outputs": [
    {
     "name": "stdout",
     "output_type": "stream",
     "text": [
      "Enter words separated by comma: frog,dog,cat\n",
      "FROG\n",
      "DOG\n",
      "CAT\n"
     ]
    }
   ],
   "source": [
    "list_strings = input(\"Enter words separated by comma: \").split(\",\")\n",
    "\n",
    "for word in list_strings:\n",
    "    word = word.upper()\n",
    "    print(word)"
   ]
  },
  {
   "cell_type": "markdown",
   "metadata": {},
   "source": [
    "2. Create a for loop that iterates through a list of numbers and prints the square of each number."
   ]
  },
  {
   "cell_type": "code",
   "execution_count": 4,
   "metadata": {},
   "outputs": [
    {
     "name": "stdout",
     "output_type": "stream",
     "text": [
      "1\n",
      "25\n",
      "36\n",
      "64\n",
      "81\n"
     ]
    }
   ],
   "source": [
    "list_numbers = [1,5,6,8,9]\n",
    "\n",
    "for number in list_numbers:\n",
    "    print(number*number)"
   ]
  },
  {
   "cell_type": "markdown",
   "metadata": {},
   "source": [
    "3. Create a for loop that iterates through a list of dictionaries and prints the value of a specified key for each dictionary."
   ]
  },
  {
   "cell_type": "code",
   "execution_count": 5,
   "metadata": {},
   "outputs": [
    {
     "name": "stdout",
     "output_type": "stream",
     "text": [
      "Please give the key that you want to find: apple\n",
      "green\n",
      "big\n"
     ]
    }
   ],
   "source": [
    "def find_key(list_dicts, key_input):\n",
    "    \"\"\"\n",
    "    function takes two parameters:\n",
    "    :param list_dicts: list of dictionaries\n",
    "    :param key_input: specified key from the user\n",
    "    \n",
    "    funciton returns a value for the specified key from the dictionaries\n",
    "    \"\"\"\n",
    "    possible_values = []\n",
    "    for dictionary in list_dicts:\n",
    "        for keys in dictionary:\n",
    "            if keys == key_input:\n",
    "                possible_values.append(dictionary[keys])\n",
    "\n",
    "    if len(possible_values) == 1:\n",
    "        return possible_values[0]\n",
    "    elif len(possible_values) == 0:\n",
    "        return \"no such key found\"\n",
    "    else:\n",
    "        for i in range(0, len(possible_values)):\n",
    "            print(possible_values[i])\n",
    "    \n",
    "    \n",
    "    \n",
    "key_input = input(\"Please give the key that you want to find: \")\n",
    "# random list of dictionaries to test the function\n",
    "list_dicts = [{'apple': 'green', 'banana': \"yellow\"}, {\"cat\": \"john\", \"dog\": \"Andrew\"}, {\"apple\": \"big\", \"grape\": \"small\"}]\n",
    "\n",
    "#calling funciton\n",
    "find_key(list_dicts, key_input)"
   ]
  },
  {
   "cell_type": "markdown",
   "metadata": {},
   "source": [
    "4. Create a for loop that iterates through a list of numbers and prints the largest number in the list."
   ]
  },
  {
   "cell_type": "code",
   "execution_count": 6,
   "metadata": {},
   "outputs": [
    {
     "name": "stdout",
     "output_type": "stream",
     "text": [
      "445\n"
     ]
    }
   ],
   "source": [
    "list_of_numbers = [123, 445, 123, 2, 6]\n",
    "\n",
    "highest_number = 0\n",
    "\n",
    "for number in list_of_numbers:\n",
    "    if number > highest_number:\n",
    "        highest_number = number\n",
    "        \n",
    "print(highest_number)"
   ]
  },
  {
   "cell_type": "markdown",
   "metadata": {},
   "source": [
    "5. Create a for loop that iterates through a list of lists and prints the sum of the elements in each sub-list."
   ]
  },
  {
   "cell_type": "code",
   "execution_count": 7,
   "metadata": {},
   "outputs": [
    {
     "name": "stdout",
     "output_type": "stream",
     "text": [
      "135\n",
      "13\n",
      "26\n"
     ]
    }
   ],
   "source": [
    "list_lists = [[123,7,5],[3,4,6],[5,9,12]]\n",
    "\n",
    "for i in list_lists:\n",
    "    \n",
    "    sub_sum = 0\n",
    "    for j in i:\n",
    "        sub_sum += j\n",
    "        \n",
    "    print(sub_sum)"
   ]
  }
 ],
 "metadata": {
  "kernelspec": {
   "display_name": "Python 3 (ipykernel)",
   "language": "python",
   "name": "python3"
  },
  "language_info": {
   "codemirror_mode": {
    "name": "ipython",
    "version": 3
   },
   "file_extension": ".py",
   "mimetype": "text/x-python",
   "name": "python",
   "nbconvert_exporter": "python",
   "pygments_lexer": "ipython3",
   "version": "3.8.13"
  }
 },
 "nbformat": 4,
 "nbformat_minor": 2
}
