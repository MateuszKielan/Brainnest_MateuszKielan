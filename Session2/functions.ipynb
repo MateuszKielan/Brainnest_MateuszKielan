{
 "cells": [
  {
   "cell_type": "markdown",
   "metadata": {},
   "source": [
    "1. Write a program that takes a list of numbers and returns the largest number in the list."
   ]
  },
  {
   "cell_type": "code",
   "execution_count": 3,
   "metadata": {},
   "outputs": [
    {
     "data": {
      "text/plain": [
       "9"
      ]
     },
     "execution_count": 3,
     "metadata": {},
     "output_type": "execute_result"
    }
   ],
   "source": [
    "from typing import List, Dict\n",
    "\n",
    "numbers = [1, 2, 3, 4, 5, 6, 7, 8, 9]\n",
    "# your code here\n",
    "\n",
    "def max_num(numbers):\n",
    "    \"\"\"\n",
    "    Function takes 1 parameter:\n",
    "    :param numbers: list of numbers.\n",
    "    returns largest number in the list.\n",
    "    \"\"\"\n",
    "    return max(numbers)\n",
    "\n",
    "\n",
    "print(max_num(numbers))"
   ]
  },
  {
   "cell_type": "markdown",
   "metadata": {},
   "source": [
    "2. Write a program that takes a string and returns the number of vowels in the string."
   ]
  },
  {
   "cell_type": "code",
   "execution_count": 4,
   "metadata": {},
   "outputs": [
    {
     "data": {
      "text/plain": [
       "3"
      ]
     },
     "execution_count": 4,
     "metadata": {},
     "output_type": "execute_result"
    }
   ],
   "source": [
    "string = \"Hello, world!\"\n",
    "# your code here\n",
    "\n",
    "def count_vowels(string):\n",
    "    \"\"\"\n",
    "    Function takes one parameter.\n",
    "    :param string: string of words.\n",
    "    returns number of vowels in the string.\n",
    "    \"\"\"\n",
    "    \n",
    "    vowels = \"aeiouy\"\n",
    "    counter = 0\n",
    "\n",
    "    for letter in string:\n",
    "        if letter in vowels:\n",
    "            counter += 1\n",
    "\n",
    "    return counter\n",
    "\n",
    "print(count_vowels(string))"
   ]
  },
  {
   "cell_type": "markdown",
   "metadata": {},
   "source": [
    "3. Write a program that takes a list of strings and returns a new list that contains only the strings that start with the letter 'a'."
   ]
  },
  {
   "cell_type": "code",
   "execution_count": 6,
   "metadata": {},
   "outputs": [
    {
     "data": {
      "text/plain": [
       "['apple']"
      ]
     },
     "execution_count": 6,
     "metadata": {},
     "output_type": "execute_result"
    }
   ],
   "source": [
    "strings = [\"apple\", \"banana\", \"cherry\", \"date\"]\n",
    "new=[]\n",
    "# your code here\n",
    "\n",
    "def starts_a(strings):\n",
    "    \"\"\"\n",
    "    Funtion takes one parameter:\n",
    "    :param strings: list of strings\n",
    "    returns a new list that has strings starting with a \n",
    "    \"\"\"\n",
    "    for word in strings:\n",
    "        if word[0] == 'a':\n",
    "            new.append(word)\n",
    "            \n",
    "    return new\n",
    "        \n",
    "print(starts_a(strings))"
   ]
  },
  {
   "cell_type": "markdown",
   "metadata": {},
   "source": [
    "4. Write a program that takes a sentence (string) and returns a dictionary with the count of each word in the sentence."
   ]
  },
  {
   "cell_type": "code",
   "execution_count": 8,
   "metadata": {},
   "outputs": [
    {
     "name": "stdout",
     "output_type": "stream",
     "text": [
      "{'this': 1, 'is': 1, 'a': 1, 'test': 1, 'sentence': 1}\n"
     ]
    }
   ],
   "source": [
    "sentence = \"this is a test sentence\"\n",
    "# your code here\n",
    "\n",
    "def word_count(sentence):\n",
    "    \"\"\"\n",
    "    Function that takes one parameter:\n",
    "    :param sentence: string of words\n",
    "    returns a dictionary with counts of every word in the sentence\n",
    "    \"\"\"\n",
    "    words = sentence.split()\n",
    "    word_counts = {}\n",
    "\n",
    "    for word in words:\n",
    "        if word in word_counts:\n",
    "            word_counts[word] += 1\n",
    "        else:\n",
    "            word_counts[word] = 1\n",
    "\n",
    "    return word_counts\n",
    "        \n",
    "    \n",
    "print(word_count(sentence))"
   ]
  },
  {
   "cell_type": "markdown",
   "metadata": {},
   "source": [
    "5. Write a program that takes two lists of numbers and returns a new list that contains only the numbers that are common to both lists."
   ]
  },
  {
   "cell_type": "code",
   "execution_count": 10,
   "metadata": {},
   "outputs": [
    {
     "name": "stdout",
     "output_type": "stream",
     "text": [
      "[2, 4, 6, 8]\n"
     ]
    }
   ],
   "source": [
    "list1 = [1, 2, 3, 4, 5, 6, 7, 8, 9]\n",
    "list2 = [2, 4, 6, 8, 10, 12, 14, 16, 18]\n",
    "# your code here\n",
    "\n",
    "def intersection(list1, list2):\n",
    "    \"\"\"\n",
    "    Function takes 2 parameters:\n",
    "    :param list1: first list\n",
    "    :param list2: second list\n",
    "    returns the list of numbers that are common in both lists\n",
    "    \"\"\"\n",
    "    common = []\n",
    "    for i in list1:\n",
    "        if i in list2:\n",
    "            common.append(i)\n",
    "    \n",
    "    return common\n",
    "        \n",
    "print(intersection(list1, list2))"
   ]
  },
  {
   "cell_type": "markdown",
   "metadata": {},
   "source": [
    "6. Write a program that takes a list of integers and returns a new list that contains only the prime numbers from the original list."
   ]
  },
  {
   "cell_type": "code",
   "execution_count": 1,
   "metadata": {},
   "outputs": [
    {
     "data": {
      "text/plain": [
       "[2, 3, 5, 7, 11, 13]"
      ]
     },
     "execution_count": 1,
     "metadata": {},
     "output_type": "execute_result"
    }
   ],
   "source": [
    "numbers = [1, 2, 3, 4, 5, 6, 7, 8, 9, 10, 11, 12, 13, 14, 15]\n",
    "# your code here\n",
    "\n",
    "def get_primes(numbers):\n",
    "    \"\"\"\n",
    "    Returns a list of prime numbers from the input list of numbers.\n",
    "    :param numbers: list of numbers\n",
    "    \"\"\"\n",
    "    primes = []\n",
    "    for num in numbers:\n",
    "        if num > 1:\n",
    "            is_prime = True\n",
    "            for i in range(2, num):\n",
    "                if (num % i) == 0:\n",
    "                    is_prime = False\n",
    "                    break\n",
    "            if is_prime:\n",
    "                primes.append(num)\n",
    "    return primes\n",
    "\n",
    "get_primes(numbers)"
   ]
  },
  {
   "cell_type": "markdown",
   "metadata": {},
   "source": [
    "7. Write a program that takes a string and returns the number of words in the string."
   ]
  },
  {
   "cell_type": "code",
   "execution_count": 11,
   "metadata": {},
   "outputs": [
    {
     "name": "stdout",
     "output_type": "stream",
     "text": [
      "7\n"
     ]
    }
   ],
   "source": [
    "string = \"Write a program that takes a string\"\n",
    "# your code here\n",
    "string = string.split()\n",
    "print(len(string))"
   ]
  },
  {
   "cell_type": "markdown",
   "metadata": {},
   "source": [
    "8. Write a program that takes a list of strings and returns a new list that contains only the strings that are palindrome."
   ]
  },
  {
   "cell_type": "code",
   "execution_count": 11,
   "metadata": {},
   "outputs": [
    {
     "name": "stdout",
     "output_type": "stream",
     "text": [
      "['madam', 'level', 'civic']\n"
     ]
    }
   ],
   "source": [
    "strings = [\"madam\", \"level\", \"civic\"]\n",
    "# your code here\n",
    "\n",
    "def palindrome_check(strings):\n",
    "    \"\"\"\n",
    "    Function takes 1 parameter:\n",
    "    :param strings: list of strings\n",
    "    return a new list containing only palindromes\n",
    "    \"\"\"\n",
    "    palindrome_list = []\n",
    "\n",
    "    for word in strings:\n",
    "        reverse: str = word[::-1]\n",
    "\n",
    "        if word == reverse:\n",
    "            palindrome_list.append(word)\n",
    "\n",
    "    return palindrome_list\n",
    "\n",
    "\n",
    "print(palindrome_check(strings))"
   ]
  },
  {
   "cell_type": "markdown",
   "metadata": {},
   "source": [
    "9. Write a program that takes a sentence (string) and returns a tuple of the most frequent word and its frequency."
   ]
  },
  {
   "cell_type": "code",
   "execution_count": 13,
   "metadata": {},
   "outputs": [
    {
     "name": "stdout",
     "output_type": "stream",
     "text": [
      "('to', 1)\n"
     ]
    }
   ],
   "source": [
    "sentence = \"this is a test sentence to test the test\"\n",
    "# your code here\n",
    "\n",
    "def most_frequent(sentence):\n",
    "    \"\"\"\n",
    "    Function takes 1 parameter.\n",
    "    :param sentence: string consisting of words\n",
    "    returns a tuple of the most frequent word and its frequency\n",
    "    \"\"\"\n",
    "    words = sentence.split()\n",
    "    word_counts = {}\n",
    "\n",
    "    for word in words:\n",
    "        if word in word_counts:\n",
    "            word_counts[word] += 1\n",
    "        else:\n",
    "            word_counts[word] = 1\n",
    "\n",
    "    most_frequent = (max(word_counts), word_counts[max(word_counts)])\n",
    "    \n",
    "    return most_frequent\n",
    "\n",
    "\n",
    "print(most_frequent(sentence))"
   ]
  },
  {
   "cell_type": "code",
   "execution_count": null,
   "metadata": {},
   "outputs": [],
   "source": []
  }
 ],
 "metadata": {
  "kernelspec": {
   "display_name": "Python 3 (ipykernel)",
   "language": "python",
   "name": "python3"
  },
  "language_info": {
   "codemirror_mode": {
    "name": "ipython",
    "version": 3
   },
   "file_extension": ".py",
   "mimetype": "text/x-python",
   "name": "python",
   "nbconvert_exporter": "python",
   "pygments_lexer": "ipython3",
   "version": "3.8.13"
  },
  "vscode": {
   "interpreter": {
    "hash": "f7a5be651532581cb44625d52e18aa1d390cab54bc6b51099d8c30bea9b68219"
   }
  }
 },
 "nbformat": 4,
 "nbformat_minor": 2
}
