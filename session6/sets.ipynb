{
 "cells": [
  {
   "cell_type": "markdown",
   "metadata": {},
   "source": [
    "1. Given two sets A and B, write a function to return the symmetric difference between them as a new set. The symmetric difference is the set of elements that are in either A or B, but not in both."
   ]
  },
  {
   "cell_type": "code",
   "execution_count": 1,
   "metadata": {},
   "outputs": [
    {
     "name": "stdout",
     "output_type": "stream",
     "text": [
      "{1, 2, 5, 6}\n"
     ]
    }
   ],
   "source": [
    "A = {1, 2, 3, 4}\n",
    "B = {3, 4, 5, 6}\n",
    "\n",
    "result = A.symmetric_difference(B)\n",
    "print(result)\n"
   ]
  },
  {
   "cell_type": "markdown",
   "metadata": {},
   "source": [
    "2. Given a list of numbers, write a function to return a set of all prime numbers from the list."
   ]
  },
  {
   "cell_type": "code",
   "execution_count": 2,
   "metadata": {},
   "outputs": [
    {
     "name": "stdout",
     "output_type": "stream",
     "text": [
      "{2, 3, 5, 7}\n"
     ]
    }
   ],
   "source": [
    "def is_prime(n):\n",
    "    if n <= 1:\n",
    "        return False\n",
    "    for i in range(2, int(n**0.5) + 1):\n",
    "        if n % i == 0:\n",
    "            return False\n",
    "    return True\n",
    "\n",
    "def get_primes(nums):\n",
    "    primes = set()\n",
    "    for n in nums:\n",
    "        if is_prime(n):\n",
    "            primes.add(n)\n",
    "    return primes\n",
    "\n",
    "nums = [1, 2, 3, 4, 5, 6, 7, 8, 9, 10]\n",
    "primes = get_primes(nums)\n",
    "print(primes)\n"
   ]
  },
  {
   "cell_type": "markdown",
   "metadata": {},
   "source": [
    "3. Given a list of words, write a function to return a set of all anagrams in the list."
   ]
  },
  {
   "cell_type": "code",
   "execution_count": 3,
   "metadata": {},
   "outputs": [
    {
     "name": "stdout",
     "output_type": "stream",
     "text": [
      "{'god', 'act', 'silent', 'listen', 'dog', 'arc', 'cat', 'car'}\n"
     ]
    }
   ],
   "source": [
    "def get_anagrams(words):\n",
    "    anagrams = set()\n",
    "    word_dict = {}\n",
    "    for word in words:\n",
    "        key = ''.join(sorted(word))\n",
    "        if key in word_dict:\n",
    "            word_dict[key].append(word)\n",
    "        else:\n",
    "            word_dict[key] = [word]\n",
    "    for key in word_dict:\n",
    "        if len(word_dict[key]) > 1:\n",
    "            anagrams.update(word_dict[key])\n",
    "    return anagrams\n",
    "\n",
    "words = ['cat', 'act', 'dog', 'god', 'listen', 'silent', 'car', 'arc']\n",
    "anagrams = get_anagrams(words)\n",
    "print(anagrams)\n"
   ]
  },
  {
   "cell_type": "markdown",
   "metadata": {},
   "source": [
    "4. Given a list of sets, write a function to return the Cartesian product of all sets in the list."
   ]
  },
  {
   "cell_type": "code",
   "execution_count": 4,
   "metadata": {},
   "outputs": [
    {
     "name": "stdout",
     "output_type": "stream",
     "text": [
      "{(2, 4, 5), (2, 4, 6), (1, 3, 5), (2, 3, 6), (1, 4, 6), (2, 3, 5), (1, 3, 6), (1, 4, 5)}\n"
     ]
    }
   ],
   "source": [
    "from itertools import product\n",
    "\n",
    "def cartesian_product(set_list):\n",
    "    return set(product(*set_list))\n",
    "\n",
    "set_list = [{1, 2}, {3, 4}, {5, 6}]\n",
    "result = cartesian_product(set_list)\n",
    "print(result)\n"
   ]
  }
 ],
 "metadata": {
  "kernelspec": {
   "display_name": "Python 3 (ipykernel)",
   "language": "python",
   "name": "python3"
  },
  "language_info": {
   "codemirror_mode": {
    "name": "ipython",
    "version": 3
   },
   "file_extension": ".py",
   "mimetype": "text/x-python",
   "name": "python",
   "nbconvert_exporter": "python",
   "pygments_lexer": "ipython3",
   "version": "3.8.13"
  },
  "vscode": {
   "interpreter": {
    "hash": "f7a5be651532581cb44625d52e18aa1d390cab54bc6b51099d8c30bea9b68219"
   }
  }
 },
 "nbformat": 4,
 "nbformat_minor": 2
}
