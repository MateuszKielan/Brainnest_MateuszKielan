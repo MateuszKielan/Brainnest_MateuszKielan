{
 "cells": [
  {
   "cell_type": "markdown",
   "metadata": {},
   "source": [
    "1.  Write a regular expression that matches a date in the format dd/mm/yyyy. For example, the string \"01/01/2021\" should match."
   ]
  },
  {
   "cell_type": "code",
   "execution_count": 4,
   "metadata": {},
   "outputs": [
    {
     "name": "stdout",
     "output_type": "stream",
     "text": [
      "Match found!\n"
     ]
    }
   ],
   "source": [
    "import re\n",
    "\n",
    "def regex_match(string, formula):\n",
    "    \"\"\"\n",
    "    Function that checks if the string matches the regex formula.\n",
    "    :param string: string that we want to check\n",
    "    :param formula: formula that we want to match\n",
    "    \"\"\"\n",
    "    if re.match(formula, string):\n",
    "        print(\"Match found!\")\n",
    "    else:\n",
    "        print(\"No match.\")\n",
    "        \n",
    "        \n",
    "# regex expression for date\n",
    "date_regex = r\"^(0[1-9]|[12][0-9]|3[01])/(0[1-9]|1[0-2])/(19|20)\\d{2}$\"\n",
    "#example string\n",
    "date_string = \"01/01/2021\"\n",
    "\n",
    "        \n",
    "regex_match(date_string, date_regex)"
   ]
  },
  {
   "cell_type": "markdown",
   "metadata": {},
   "source": [
    "2. Write a regular expression that matches a phone number in the format xxx-xxx-xxxx, where x is a digit. For example, the string \"123-456-7890\" should match."
   ]
  },
  {
   "cell_type": "code",
   "execution_count": 5,
   "metadata": {},
   "outputs": [
    {
     "name": "stdout",
     "output_type": "stream",
     "text": [
      "Match found!\n"
     ]
    }
   ],
   "source": [
    "import re\n",
    "\n",
    "#regex expression for the phone number\n",
    "phone_regex = r\"^\\d{3}-\\d{3}-\\d{4}$\"\n",
    "phone_number = \"123-456-7890\"\n",
    "\n",
    "#reusing the funciton regex_match() created in task 1\n",
    "regex_match(phone_number, phone_regex)\n"
   ]
  },
  {
   "cell_type": "markdown",
   "metadata": {},
   "source": [
    "3. Write a regular expression that matches a valid email address. For example, the string \"example@example.com\" should match."
   ]
  },
  {
   "cell_type": "code",
   "execution_count": 6,
   "metadata": {},
   "outputs": [
    {
     "name": "stdout",
     "output_type": "stream",
     "text": [
      "Match found!\n"
     ]
    }
   ],
   "source": [
    "import re\n",
    "\n",
    "email_regex = r\"^[a-zA-Z0-9._%+-]+@[a-zA-Z0-9.-]+\\.[a-zA-Z]{2,}$\"\n",
    "email_example = \"example@example.com\"\n",
    "\n",
    "#reusing the funciton regex_match() created in task 1\n",
    "regex_match(email_example, email_regex)\n"
   ]
  },
  {
   "cell_type": "markdown",
   "metadata": {},
   "source": [
    "4. Write a regular expression that matches a string that starts with a word, followed by one or more whitespace characters, followed by another word. For example, the string \"hello world\" should match."
   ]
  },
  {
   "cell_type": "code",
   "execution_count": 14,
   "metadata": {},
   "outputs": [
    {
     "name": "stdout",
     "output_type": "stream",
     "text": [
      "Match found!\n"
     ]
    }
   ],
   "source": [
    "string_example = \"hello world\"\n",
    "string_regex = \"^\\w+\\s+\\w+$\"\n",
    "\n",
    "#reusing the funciton regex_match() created in task 1\n",
    "regex_match(string_example, string_regex)"
   ]
  },
  {
   "cell_type": "markdown",
   "metadata": {},
   "source": [
    "5. Write a regular expression that matches a string that contains a number with exactly two decimal places. For example, the string \"1.23\" should match, but the string \"1.234\" should not match."
   ]
  },
  {
   "cell_type": "code",
   "execution_count": 17,
   "metadata": {},
   "outputs": [
    {
     "name": "stdout",
     "output_type": "stream",
     "text": [
      "Match found!\n"
     ]
    }
   ],
   "source": [
    "number_example = \"1.23\"\n",
    "number_regex = \"^\\d+\\.\\d{2}$\"\n",
    "\n",
    "#reusing the funciton regex_match() created in task 1\n",
    "regex_match(number_example, number_regex)"
   ]
  }
 ],
 "metadata": {
  "kernelspec": {
   "display_name": "Python 3 (ipykernel)",
   "language": "python",
   "name": "python3"
  },
  "language_info": {
   "codemirror_mode": {
    "name": "ipython",
    "version": 3
   },
   "file_extension": ".py",
   "mimetype": "text/x-python",
   "name": "python",
   "nbconvert_exporter": "python",
   "pygments_lexer": "ipython3",
   "version": "3.8.13"
  },
  "vscode": {
   "interpreter": {
    "hash": "f7a5be651532581cb44625d52e18aa1d390cab54bc6b51099d8c30bea9b68219"
   }
  }
 },
 "nbformat": 4,
 "nbformat_minor": 2
}
